{
 "cells": [
  {
   "cell_type": "markdown",
   "metadata": {},
   "source": [
    "### Markdown Basics \n",
    "* **Bold** \n",
    "* *Italic* \n",
    "* ***IB***\n",
    "* Normal Text\n",
    "    * Sublist 1\n",
    "    * Sublist 2\n",
    "    \n",
    "\n",
    "1. Ordered list element 1\n",
    "2. Ordered list element 2\n",
    "\n",
    "\n",
    "[Jupyter logo](jupyterlogo.png)\n",
    "\n",
    "\n",
    "![jupyter logo](jupyterlogo.png)\n",
    "\n",
    "\n",
    "<img src=\"jupyterlogo.png\" style = \"float:left\">\n",
    "\n",
    "<http://google.com>\n",
    "\n"
   ]
  },
  {
   "cell_type": "code",
   "execution_count": null,
   "metadata": {},
   "outputs": [],
   "source": []
  },
  {
   "cell_type": "markdown",
   "metadata": {},
   "source": [
    "## Python Basics\n",
    "\n",
    "Python  version 3.7\n",
    "\n",
    "- Scripting\n",
    "- Object Oriented\n",
    "- Functional"
   ]
  },
  {
   "cell_type": "code",
   "execution_count": 5,
   "metadata": {},
   "outputs": [
    {
     "name": "stdout",
     "output_type": "stream",
     "text": [
      "Hiii ! Hello Python\n"
     ]
    }
   ],
   "source": [
    "# Python comment\n",
    "\n",
    "print(\"Hiii\",\"!\",end = \" \") # Basic Output\n",
    "print(\"Hello Python\")"
   ]
  },
  {
   "cell_type": "code",
   "execution_count": null,
   "metadata": {},
   "outputs": [],
   "source": []
  },
  {
   "cell_type": "markdown",
   "metadata": {},
   "source": [
    "### Assignment"
   ]
  },
  {
   "cell_type": "code",
   "execution_count": 12,
   "metadata": {},
   "outputs": [
    {
     "name": "stdout",
     "output_type": "stream",
     "text": [
      "123456 123456 123456 12 34\n"
     ]
    }
   ],
   "source": [
    "a = 123456 # Single Varialble Assignment\n",
    "b = c = d = a # Multi Variable Assignment of the values\n",
    "\n",
    "# Multi Variable assignment with different values\n",
    "m,n = 12,34\n",
    "\n",
    "print(a,b,c,m,n)\n"
   ]
  },
  {
   "cell_type": "code",
   "execution_count": null,
   "metadata": {},
   "outputs": [],
   "source": []
  },
  {
   "cell_type": "markdown",
   "metadata": {},
   "source": [
    "### Data Types & Conversion\n",
    "- int\n",
    "- float\n",
    "- string\n"
   ]
  },
  {
   "cell_type": "code",
   "execution_count": 61,
   "metadata": {},
   "outputs": [
    {
     "data": {
      "text/plain": [
       "10"
      ]
     },
     "execution_count": 61,
     "metadata": {},
     "output_type": "execute_result"
    }
   ],
   "source": [
    "\n",
    "type(a)\n",
    "str = \"Python\"\n",
    "type(str)\n",
    "\n",
    "f1 = 10.2345\n",
    "type(f1)\n",
    "\n",
    "int(f1)\n",
    "\n",
    "# str(int(f1))\n"
   ]
  },
  {
   "cell_type": "code",
   "execution_count": null,
   "metadata": {},
   "outputs": [],
   "source": []
  },
  {
   "cell_type": "code",
   "execution_count": null,
   "metadata": {},
   "outputs": [],
   "source": []
  },
  {
   "cell_type": "markdown",
   "metadata": {},
   "source": [
    "### Arithematic Operations\n",
    "- +\n",
    "- -\n",
    "- *\n",
    "- %\n",
    "- /\n",
    "- **"
   ]
  },
  {
   "cell_type": "code",
   "execution_count": 41,
   "metadata": {},
   "outputs": [
    {
     "data": {
      "text/plain": [
       "83"
      ]
     },
     "execution_count": 41,
     "metadata": {},
     "output_type": "execute_result"
    }
   ],
   "source": [
    "#x = m ** 123456\n",
    "\n",
    "#type(m)\n",
    "\n",
    "#len(str(x))\n",
    "\n",
    "atoms = 10 ** 82\n",
    "\n",
    "atoms\n",
    "\n",
    "len(str(atoms))"
   ]
  },
  {
   "cell_type": "code",
   "execution_count": null,
   "metadata": {},
   "outputs": [],
   "source": []
  },
  {
   "cell_type": "markdown",
   "metadata": {},
   "source": [
    "## Conditionals\n",
    "\n"
   ]
  },
  {
   "cell_type": "code",
   "execution_count": 66,
   "metadata": {},
   "outputs": [
    {
     "name": "stdout",
     "output_type": "stream",
     "text": [
      "False\n"
     ]
    }
   ],
   "source": [
    "if atoms < 10 ** 9:\n",
    "    print(\"True\")\n",
    "else:\n",
    "    print(\"False\")\n",
    "    "
   ]
  },
  {
   "cell_type": "code",
   "execution_count": 68,
   "metadata": {},
   "outputs": [
    {
     "name": "stdout",
     "output_type": "stream",
     "text": [
      "Odd\n"
     ]
    }
   ],
   "source": [
    "#  Check if a number is Even \n",
    "n = 123\n",
    "if n % 2 == 0:\n",
    "    print(\"Even\")\n",
    "else:\n",
    "    print(\"Odd\")"
   ]
  },
  {
   "cell_type": "code",
   "execution_count": 74,
   "metadata": {},
   "outputs": [
    {
     "name": "stdout",
     "output_type": "stream",
     "text": [
      "Enter the First number: 5\n",
      "Enter the Second NUmber: 7\n",
      "Enter the Third number: 9\n",
      "9 is greatest\n"
     ]
    }
   ],
   "source": [
    "# Find the Greatest of three numbers\n",
    "num1 = int(input(\"Enter the First number: \"))\n",
    "num2 = int(input(\"Enter the Second NUmber: \"))\n",
    "num3 = int(input(\"Enter the Third number: \"))\n",
    "if num1 > num2 and num1 > num3:\n",
    "    print(num1,\"is Greatest\")\n",
    "elif num2 >= num3:\n",
    "    print(num2,\"is greatest\")\n",
    "else:\n",
    "    print(num3,\"is greatest\")"
   ]
  },
  {
   "cell_type": "code",
   "execution_count": 81,
   "metadata": {},
   "outputs": [
    {
     "name": "stdout",
     "output_type": "stream",
     "text": [
      "Enter a year : 2020\n",
      "Given Year is Leap Year\n"
     ]
    }
   ],
   "source": [
    "# check if a year is a Leap Year\n",
    "year = int(input(\"Enter a year : \"))\n",
    "if year % 400== 0 or year % 4 == 0 and year % 100 != 0:\n",
    "    print(\"Given Year is Leap Year\")\n",
    "else:\n",
    "    print(\"Given year is not a leap Year\")"
   ]
  },
  {
   "cell_type": "code",
   "execution_count": 84,
   "metadata": {},
   "outputs": [
    {
     "name": "stdout",
     "output_type": "stream",
     "text": [
      "Enter a number : 1\n",
      "Given number is not in range\n"
     ]
    }
   ],
   "source": [
    "# Check if a number exists in a given range(inclusive)\n",
    "num = int(input(\"Enter a number : \"))\n",
    "ub =  int(input(\"Enter a number : \"))\n",
    "lb = int(input(\"Enter a number : \"))\n",
    "if num <= ub and num >= lb:\n",
    "    print(\"Given number is in range\")\n",
    "else:\n",
    "    print(\"Given number is not in range\")\n"
   ]
  },
  {
   "cell_type": "code",
   "execution_count": 94,
   "metadata": {},
   "outputs": [
    {
     "name": "stdout",
     "output_type": "stream",
     "text": [
      "Enter a number : 123445\n",
      "6\n"
     ]
    }
   ],
   "source": [
    "# Calculate the number of digits in a number\n",
    "num = (input(\"Enter a number : \"))\n",
    "print(len(num))\n",
    "    "
   ]
  },
  {
   "cell_type": "code",
   "execution_count": null,
   "metadata": {},
   "outputs": [],
   "source": [
    "# Check if a number is a multiple of 10\n",
    "n = (input(\"Enter a number : \"))\n",
    "if n % 10 == 0:\n",
    "    print(n,\"is a multiple of 10\")\n",
    "else:\n",
    "    print(n,\"is not a multiple of 10\")"
   ]
  },
  {
   "cell_type": "code",
   "execution_count": 98,
   "metadata": {},
   "outputs": [
    {
     "name": "stdout",
     "output_type": "stream",
     "text": [
      "Enter a number: 480\n",
      "480 is not a factor of 1000\n"
     ]
    }
   ],
   "source": [
    "# Check if a number is a factor of 1000\n",
    "n = int(input(\"Enter a number: \"))\n",
    "if 1000 % n == 0:\n",
    "    print(n,\"is a factor of 1000\")\n",
    "else:\n",
    "    print(n,\"is not a factor of 1000\")"
   ]
  },
  {
   "cell_type": "code",
   "execution_count": 1,
   "metadata": {},
   "outputs": [
    {
     "name": "stdout",
     "output_type": "stream",
     "text": [
      "12345 is equal to 12345\n"
     ]
    }
   ],
   "source": [
    "# Check if given string is equal to a number\n",
    "s = \"12345\"\n",
    "n = 12345\n",
    "if str(n) == s:\n",
    "    print(n,\"is equal to\",s)\n",
    "else:\n",
    "    print(\"not equal\")"
   ]
  },
  {
   "cell_type": "code",
   "execution_count": 91,
   "metadata": {},
   "outputs": [
    {
     "name": "stdout",
     "output_type": "stream",
     "text": [
      "Enter a number12\n",
      "144\n"
     ]
    }
   ],
   "source": [
    "# Calculate the square root of a number without functions\n",
    "num = int(input(\"Enter a number\"))\n",
    "num = num ** 2\n",
    "print(num)"
   ]
  },
  {
   "cell_type": "code",
   "execution_count": 96,
   "metadata": {},
   "outputs": [
    {
     "name": "stdout",
     "output_type": "stream",
     "text": [
      "31536000000000000\n"
     ]
    }
   ],
   "source": [
    "# Calculate number of nano seconds in a given year(Considering leap Year logic)\n",
    "year = 2019\n",
    "if year % 400 == 0 or (year % 4 == 0 and year % 100 != 0):\n",
    "    print(366 * 24 * 60 * 60 *(10 ** 9))\n",
    "else:\n",
    "    print(365 * 24 * 60 * 60 * (10 ** 9))"
   ]
  },
  {
   "cell_type": "code",
   "execution_count": null,
   "metadata": {},
   "outputs": [],
   "source": []
  }
 ],
 "metadata": {
  "kernelspec": {
   "display_name": "Python 3",
   "language": "python",
   "name": "python3"
  },
  "language_info": {
   "codemirror_mode": {
    "name": "ipython",
    "version": 3
   },
   "file_extension": ".py",
   "mimetype": "text/x-python",
   "name": "python",
   "nbconvert_exporter": "python",
   "pygments_lexer": "ipython3",
   "version": "3.7.3"
  }
 },
 "nbformat": 4,
 "nbformat_minor": 2
}
