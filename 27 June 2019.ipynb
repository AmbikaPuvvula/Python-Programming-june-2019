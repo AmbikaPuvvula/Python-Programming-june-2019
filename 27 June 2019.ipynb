{
 "cells": [
  {
   "cell_type": "code",
   "execution_count": 1,
   "metadata": {},
   "outputs": [
    {
     "name": "stdout",
     "output_type": "stream",
     "text": [
      "1 2\n",
      "1 3\n",
      "1 4\n",
      "2 3\n",
      "2 4\n",
      "3 4\n"
     ]
    }
   ],
   "source": [
    "# Function to print all combinations of pairs of integers in a unique list\n",
    "\n",
    "def combinations(li):\n",
    "    for i in range(len(li)-1):\n",
    "        for j in range(i+1,len(li)):\n",
    "            print(li[i],li[j])\n",
    "    return\n",
    "li = [1,2,3,4]\n",
    "combinations(li)"
   ]
  },
  {
   "cell_type": "code",
   "execution_count": 2,
   "metadata": {},
   "outputs": [
    {
     "name": "stdout",
     "output_type": "stream",
     "text": [
      "1 2 3\n",
      "1 2 4\n",
      "1 2 5\n",
      "1 3 4\n",
      "1 3 5\n",
      "1 4 5\n",
      "2 3 4\n",
      "2 3 5\n",
      "2 4 5\n",
      "3 4 5\n"
     ]
    }
   ],
   "source": [
    "# For combinations of three\n",
    "# [1,2,3,4] -> 1,2,3  1,2,4  1,3,4  2,3,4\n",
    "def combinationsOfThree(li):\n",
    "    for i in range(len(li) - 2):\n",
    "        for j in range(i+1,len(li) - 1):\n",
    "            for k in range(j+1,len(li)):\n",
    "                print(li[i],li[j],li[k])\n",
    "    return\n",
    "li = [1,2,3,4,5]\n",
    "combinationsOfThree(li)"
   ]
  },
  {
   "cell_type": "code",
   "execution_count": 3,
   "metadata": {},
   "outputs": [
    {
     "data": {
      "text/plain": [
       "8"
      ]
     },
     "execution_count": 3,
     "metadata": {},
     "output_type": "execute_result"
    }
   ],
   "source": [
    "# [1,2,3] ->[1,2,3]\n",
    "\n",
    "def medium(li,k):\n",
    "    count = 1\n",
    "    while(True):\n",
    "        li3 = differencePairs(li)\n",
    "            #count += 1\n",
    "        if li3[0] == li3[1]:\n",
    "            break\n",
    "    if len(li3[0]) >= k:\n",
    "        return sorted(li3[0],reverse = True)[k-1]\n",
    "    else:\n",
    "        return -1\n",
    "    #return li3[0]\n",
    "\n",
    "def differencePairs(li):\n",
    "    cli = li[:]\n",
    "    newelements = []\n",
    "    for i in range(len(li) - 1):\n",
    "        for j in range(i+1,len(li)):\n",
    "            d = abs(li[i] - li[j])\n",
    "            if (d not in li) and (d not in newelements):\n",
    "                newelements.append(d)\n",
    "    li.extend(newelements)\n",
    "    return [cli,li]\n",
    "li = [1,9]\n",
    "medium(li,2)"
   ]
  },
  {
   "cell_type": "code",
   "execution_count": 1,
   "metadata": {},
   "outputs": [
    {
     "data": {
      "text/plain": [
       "[3, 6, 9, 12]"
      ]
     },
     "execution_count": 1,
     "metadata": {},
     "output_type": "execute_result"
    }
   ],
   "source": [
    "[4,8]\n",
    "[20,40,60]\n",
    "[4,8,12,16]\n",
    "[3,6,9,12]\n",
    "# Convert list in to arithematic Progression\n"
   ]
  },
  {
   "cell_type": "code",
   "execution_count": null,
   "metadata": {},
   "outputs": [],
   "source": []
  },
  {
   "cell_type": "code",
   "execution_count": null,
   "metadata": {},
   "outputs": [],
   "source": [
    "def differencePairs(li):\n",
    "    c = li.copy()\n",
    "    newelements = []\n",
    "    for i in range(len(li)-1):\n",
    "        for j in range(i+1,len(li)):\n",
    "            d = abs(li[i]-li[j])\n",
    "            if d not in li and d not in newelements:\n",
    "                newelements.append(d)\n",
    "    li.extend(newelements)\n",
    "    return "
   ]
  },
  {
   "cell_type": "code",
   "execution_count": null,
   "metadata": {},
   "outputs": [],
   "source": []
  },
  {
   "cell_type": "markdown",
   "metadata": {},
   "source": [
    "### Set -Data Structures in Python\n",
    "- Represented by {}\n",
    "- Set is iterable and mutable"
   ]
  },
  {
   "cell_type": "code",
   "execution_count": 10,
   "metadata": {},
   "outputs": [
    {
     "name": "stdout",
     "output_type": "stream",
     "text": [
      "1 2 3 4 5 6 7 "
     ]
    },
    {
     "data": {
      "text/plain": [
       "{1, 2, 3, 4, 5, 6, 7, 8, 9, 10, 11, 12}"
      ]
     },
     "execution_count": 10,
     "metadata": {},
     "output_type": "execute_result"
    }
   ],
   "source": [
    "a = {1,2,3,4,5,6}\n",
    "a.add(7) # add is a function & adding a single element to a set\n",
    "# Acessing elements\n",
    "for i in a:\n",
    "    print(i,end = \" \")\n",
    "    \n",
    "b = {8,9,10,1,2,3}\n",
    "li = [11,12,13,1]\n",
    "a.update(b,li) # Adding multiple elements\n",
    "a\n",
    "a.discard(13) # Remove elements in set\n",
    "a"
   ]
  },
  {
   "cell_type": "code",
   "execution_count": 20,
   "metadata": {},
   "outputs": [
    {
     "data": {
      "text/plain": [
       "{6, 10}"
      ]
     },
     "execution_count": 20,
     "metadata": {},
     "output_type": "execute_result"
    }
   ],
   "source": [
    "a = {1,2,3,4,5,6}\n",
    "b = {8,9,10,1,2,3}\n",
    "a.union(b)\n",
    "a = {1,2,3,4,5,6}\n",
    "b = {8,9,10,1,2,3}\n",
    "a.intersection(b)\n",
    "# disjoint --> means if both sets not having any common elements then it returns True, else returns False.\n",
    "a.isdisjoint(b)\n",
    "a = {1,2,3}\n",
    "b = {4,5,6}\n",
    "a.isdisjoint(b)\n",
    "a = {1,2,5,7,9,11}\n",
    "b = {6,9,10}\n",
    "c = {111,119}\n",
    "a - b # equal to elements present in a not in b\n",
    "b - a # equal to elements present in a not in b\n"
   ]
  },
  {
   "cell_type": "code",
   "execution_count": 21,
   "metadata": {},
   "outputs": [
    {
     "data": {
      "text/plain": [
       "set()"
      ]
     },
     "execution_count": 21,
     "metadata": {},
     "output_type": "execute_result"
    }
   ],
   "source": [
    "d = set()\n",
    "d"
   ]
  },
  {
   "cell_type": "code",
   "execution_count": 22,
   "metadata": {},
   "outputs": [
    {
     "data": {
      "text/plain": [
       "{1, 2, 3, 4, 5}"
      ]
     },
     "execution_count": 22,
     "metadata": {},
     "output_type": "execute_result"
    }
   ],
   "source": [
    "li = [1,2,3,4,5,1,1,3,5]\n",
    "u = set(li)# Remove the repetetive elements\n",
    "u"
   ]
  },
  {
   "cell_type": "code",
   "execution_count": null,
   "metadata": {},
   "outputs": [],
   "source": []
  },
  {
   "cell_type": "code",
   "execution_count": 23,
   "metadata": {},
   "outputs": [
    {
     "ename": "SyntaxError",
     "evalue": "invalid syntax (<ipython-input-23-b6f670bdbcce>, line 2)",
     "output_type": "error",
     "traceback": [
      "\u001b[1;36m  File \u001b[1;32m\"<ipython-input-23-b6f670bdbcce>\"\u001b[1;36m, line \u001b[1;32m2\u001b[0m\n\u001b[1;33m    Object Oriented : Java,Python\u001b[0m\n\u001b[1;37m                  ^\u001b[0m\n\u001b[1;31mSyntaxError\u001b[0m\u001b[1;31m:\u001b[0m invalid syntax\n"
     ]
    }
   ],
   "source": [
    "Procedural : c\n",
    "Object Oriented : Java,Python\n",
    "Scripting : PHP,pytho,Javascript,\n",
    "Functional : Python,Haskell,Scala\n",
    "Logic : Prolog,Lisp\n"
   ]
  },
  {
   "cell_type": "markdown",
   "metadata": {},
   "source": [
    "### List Comprehensions"
   ]
  },
  {
   "cell_type": "code",
   "execution_count": 25,
   "metadata": {},
   "outputs": [
    {
     "data": {
      "text/plain": [
       "[1, 2, 3, 4, 5, 6, 7, 8, 9, 10]"
      ]
     },
     "execution_count": 25,
     "metadata": {},
     "output_type": "execute_result"
    }
   ],
   "source": [
    "# N natural numbers in a list\n",
    "n = 10\n",
    "li = []\n",
    "for i in range(1,n+1):\n",
    "    li.append(i)\n",
    "li"
   ]
  },
  {
   "cell_type": "code",
   "execution_count": 26,
   "metadata": {},
   "outputs": [
    {
     "data": {
      "text/plain": [
       "[1, 2, 3, 4, 5, 6, 7, 8, 9, 10]"
      ]
     },
     "execution_count": 26,
     "metadata": {},
     "output_type": "execute_result"
    }
   ],
   "source": [
    "li = [i for i in range(1,11)]\n",
    "li"
   ]
  },
  {
   "cell_type": "code",
   "execution_count": 27,
   "metadata": {},
   "outputs": [
    {
     "data": {
      "text/plain": [
       "[1, 8, 27, 64, 125, 216, 343, 512, 729, 1000]"
      ]
     },
     "execution_count": 27,
     "metadata": {},
     "output_type": "execute_result"
    }
   ],
   "source": [
    "# Apply list comprehension to store the cubes of n natural numbers\n",
    "li = [i**3 for i in range(1,11)]\n",
    "li"
   ]
  },
  {
   "cell_type": "code",
   "execution_count": 33,
   "metadata": {},
   "outputs": [
    {
     "data": {
      "text/plain": [
       "[1, 2, 6, 24, 120, 720, 5040, 40320, 362880, 3628800]"
      ]
     },
     "execution_count": 33,
     "metadata": {},
     "output_type": "execute_result"
    }
   ],
   "source": [
    "# Function to calculate the factorial\n",
    "def factorial(n):\n",
    "    if n == 0 or n == 1:\n",
    "        return 1\n",
    "    return n * factorial(n-1)\n",
    "# Apply list comprehension to calculate factorail of n natural numbers\n",
    "n = 10\n",
    "factorialList = [factorial(i) for i in range(1,n+1)]\n",
    "factorialList"
   ]
  },
  {
   "cell_type": "code",
   "execution_count": 5,
   "metadata": {},
   "outputs": [
    {
     "data": {
      "text/plain": [
       "[1, 3, 6, 10, 15, 21]"
      ]
     },
     "execution_count": 5,
     "metadata": {},
     "output_type": "execute_result"
    }
   ],
   "source": [
    "# Store cumulative sum of numbers till n in a list\n",
    "# n = 3 [1,2,3 --> 6]\n",
    "# n = 5 -> [1,3,6,10,15]\n",
    "n = 6\n",
    "cs = [sum(range(1,i+1)) for i in range(1,n+1)]\n",
    "cs"
   ]
  },
  {
   "cell_type": "code",
   "execution_count": 13,
   "metadata": {},
   "outputs": [
    {
     "data": {
      "text/plain": [
       "[1972, 1976, 1980, 1984, 1988, 1992, 1996, 2004, 2008, 2012, 2016]"
      ]
     },
     "execution_count": 13,
     "metadata": {},
     "output_type": "execute_result"
    }
   ],
   "source": [
    "#  List Comprehension to store only leap years in a given time period\n",
    "st = 1970\n",
    "et = 2019\n",
    "leapYears = [i for i in range(st,et+1)if ((i % 400 == 0) or (i % 4 ==0)) and (i % 100 !=0)]\n",
    "leapYears"
   ]
  },
  {
   "cell_type": "code",
   "execution_count": 20,
   "metadata": {},
   "outputs": [
    {
     "data": {
      "text/plain": [
       "[1, 2, 3, 4, 5]"
      ]
     },
     "execution_count": 20,
     "metadata": {},
     "output_type": "execute_result"
    }
   ],
   "source": [
    "# Extract unique elements in list by using list comprehension\n",
    "li =[1,2,3,2,1,4,4,5,5,5]\n",
    "u2 = []\n",
    "unique = []\n",
    "unique = [u2.append(i) for i in li if i not in u2]\n",
    "#unique = [i for i in range(0,len(li)) if sorted(li)[i] != sorted(li)[i]]\n",
    "u2"
   ]
  },
  {
   "cell_type": "code",
   "execution_count": null,
   "metadata": {},
   "outputs": [],
   "source": []
  },
  {
   "cell_type": "markdown",
   "metadata": {},
   "source": [
    "### Iterators\n",
    "- Iterable : Strings,Lists,Tuples,Sets,Dictionaries\n",
    "- To Convert Iterable to Iterator use a function called iter()\n",
    "- For Loop: \n",
    "- Iterator : Stop iteration at any point and starts whenever we want,Only possible in functional Programming"
   ]
  },
  {
   "cell_type": "code",
   "execution_count": 33,
   "metadata": {},
   "outputs": [
    {
     "name": "stdout",
     "output_type": "stream",
     "text": [
      "1:\n",
      "P\n",
      "2:\n",
      "y\n"
     ]
    }
   ],
   "source": [
    "it = iter(\"Python\")\n",
    "print('1:')\n",
    "print(next(it))\n",
    "#print('\\n')\n",
    "print('2:')\n",
    "print(next(it))"
   ]
  },
  {
   "cell_type": "markdown",
   "metadata": {},
   "source": [
    "### Generators\n",
    "- Generator is a user defined function"
   ]
  },
  {
   "cell_type": "code",
   "execution_count": 42,
   "metadata": {},
   "outputs": [
    {
     "name": "stdout",
     "output_type": "stream",
     "text": [
      "8\n",
      "512\n",
      "134217728\n",
      "2417851639229258349412352\n",
      "14134776518227074636666380005943348126619871175004951664972849610340958208\n"
     ]
    }
   ],
   "source": [
    "def generator():\n",
    "    n = 2\n",
    "    while True:\n",
    "        n **= 3\n",
    "        yield n\n",
    "    \n",
    "a = generator()\n",
    "for i in range(5):\n",
    "    print(next(a))\n",
    "#b = next(a)**\n",
    "#next(a)\n",
    "#next(a)"
   ]
  },
  {
   "cell_type": "code",
   "execution_count": null,
   "metadata": {},
   "outputs": [],
   "source": []
  }
 ],
 "metadata": {
  "kernelspec": {
   "display_name": "Python 3",
   "language": "python",
   "name": "python3"
  },
  "language_info": {
   "codemirror_mode": {
    "name": "ipython",
    "version": 3
   },
   "file_extension": ".py",
   "mimetype": "text/x-python",
   "name": "python",
   "nbconvert_exporter": "python",
   "pygments_lexer": "ipython3",
   "version": "3.7.3"
  }
 },
 "nbformat": 4,
 "nbformat_minor": 2
}
