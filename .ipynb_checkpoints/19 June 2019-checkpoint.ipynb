{
 "cells": [
  {
   "cell_type": "markdown",
   "metadata": {},
   "source": [
    "### Hackerearth Programs"
   ]
  },
  {
   "cell_type": "code",
   "execution_count": 2,
   "metadata": {},
   "outputs": [
    {
     "name": "stdout",
     "output_type": "stream",
     "text": [
      "6\n",
      "1 2 3 4 5 7\n",
      "840\n"
     ]
    }
   ],
   "source": [
    "# Product sum program\n",
    "# You have been given an array A of size N consisting of positive integers.\n",
    "#You need to find and print the product of all the number in this array Modulo.10^9 + 7\n",
    "def productnum(n):\n",
    "    num = 1\n",
    "    for i in n:\n",
    "        num = ((num * i) % ((10 ** 9) + 7))\n",
    "    print(num)\n",
    "    return\n",
    "\n",
    "s = int(input())\n",
    "a = input().split()\n",
    "n = []\n",
    "for i in range(s):\n",
    "    n.append(int(a[i]))\n",
    "productnum(n)"
   ]
  },
  {
   "cell_type": "code",
   "execution_count": null,
   "metadata": {},
   "outputs": [],
   "source": []
  },
  {
   "cell_type": "code",
   "execution_count": null,
   "metadata": {},
   "outputs": [],
   "source": []
  },
  {
   "cell_type": "markdown",
   "metadata": {},
   "source": []
  },
  {
   "cell_type": "code",
   "execution_count": null,
   "metadata": {},
   "outputs": [],
   "source": []
  },
  {
   "cell_type": "code",
   "execution_count": null,
   "metadata": {},
   "outputs": [],
   "source": []
  },
  {
   "cell_type": "code",
   "execution_count": null,
   "metadata": {},
   "outputs": [],
   "source": [
    "# e-maze-in\n",
    "s = 0\n",
    "a = 0\n",
    "n = input()\n",
    "for i in n:\n",
    "    if i == \"L\":\n",
    "        s = s - 1\n",
    "    elif i == \"R\":\n",
    "        s = s + 1\n",
    "    elif i == \"U\":\n",
    "        a = a + 1\n",
    "    else:\n",
    "        a = a - 1\n",
    "print(s,a)"
   ]
  },
  {
   "cell_type": "code",
   "execution_count": null,
   "metadata": {},
   "outputs": [],
   "source": [
    "def uploadImg(l,w,h):\n",
    "    if w < l or h < l:\n",
    "        print(\"UPLOAD ANOTHER\")\n",
    "    elif (w > l and h > l) and (l==w==h):\n",
    "        print(\"ACCEPTED\")\n",
    "    elif (l==h==w):\n",
    "        print(\"ACCEPTED\")\n",
    "    elif (w>l or h>l):\n",
    "        print(\"CROP IT\")\n",
    "    return\n",
    "\n",
    "l = int(input())\n",
    "n = int(input())\n",
    "for i in range(n):\n",
    "    s = input().split()\n",
    "    w = int(s[0])\n",
    "    h = int(s[1])\n",
    "    uploadImg(l,w,h)"
   ]
  },
  {
   "cell_type": "code",
   "execution_count": null,
   "metadata": {},
   "outputs": [],
   "source": []
  }
 ],
 "metadata": {
  "kernelspec": {
   "display_name": "Python 3",
   "language": "python",
   "name": "python3"
  },
  "language_info": {
   "codemirror_mode": {
    "name": "ipython",
    "version": 3
   },
   "file_extension": ".py",
   "mimetype": "text/x-python",
   "name": "python",
   "nbconvert_exporter": "python",
   "pygments_lexer": "ipython3",
   "version": "3.7.3"
  }
 },
 "nbformat": 4,
 "nbformat_minor": 2
}
