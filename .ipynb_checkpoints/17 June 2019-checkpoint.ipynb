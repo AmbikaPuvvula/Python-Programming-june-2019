{
 "cells": [
  {
   "cell_type": "markdown",
   "metadata": {},
   "source": [
    "### Hacker Earth Problems"
   ]
  },
  {
   "cell_type": "code",
   "execution_count": 2,
   "metadata": {},
   "outputs": [
    {
     "data": {
      "text/plain": [
       "'aMBIKApUVVULA'"
      ]
     },
     "execution_count": 2,
     "metadata": {},
     "output_type": "execute_result"
    }
   ],
   "source": [
    "# Toggle String\n",
    "def toggleString(s):\n",
    "    s = list(s)\n",
    "    a = []\n",
    "    for c in s:\n",
    "        if c.islower():\n",
    "            a.append(c.upper())\n",
    "        else:\n",
    "            a.append(c.lower())\n",
    "    return \"\".join(a)\n",
    "\n",
    "toggleString(\"AmbikaPuvvula\")"
   ]
  },
  {
   "cell_type": "code",
   "execution_count": null,
   "metadata": {},
   "outputs": [],
   "source": []
  },
  {
   "cell_type": "code",
   "execution_count": null,
   "metadata": {},
   "outputs": [],
   "source": [
    "# Duration\n",
    "# Rahul is a very busy persion he dont wan't to waste his time .\n",
    "#He keeps account of duration of each and every work. Now he don't even get time to calculate duration of works,\n",
    "#So your job is to count the durations for each work and give it to rahul.\n",
    "\n",
    "# input: Start time,end time HH MM\n",
    "        # HH -- {00, 01, 02 --- 23}\n",
    "        # MM -- {00, 01, 02 --- 58}\n",
    "        # HH MM - {00 00, 23 59}\n",
    "# output: Time difference in HH MM\n",
    "s = \"2 42 8 23\"\n",
    "def minDiff(s):\n",
    "    s = s.split()\n",
    "    sh = int(s[0]) # start hour\n",
    "    sm = int(s[1]) # start minute\n",
    "    eh = int(s[2]) # end hour\n",
    "    em = int(s[3]) # end minute\n",
    "    startminutes = (sh * 60) + sm\n",
    "    endminutes = (eh * 60) + em\n",
    "    return endminutes - startminutes\n",
    "def outputTime(m): # minutes to HH MM format\n",
    "    hh = m // 60\n",
    "    mm = m % 60\n",
    "    print(hh, mm)\n",
    "    return \n",
    "\n",
    "\n",
    "n = int(input())\n",
    "for i in range(0,n):\n",
    "    a = input()\n",
    "    m = minDiff(a)\n",
    "    outputTime(m)\n",
    "#m= minDiff(s)\n",
    "#outputTime(m)\n",
    "    \n"
   ]
  },
  {
   "cell_type": "code",
   "execution_count": null,
   "metadata": {},
   "outputs": [],
   "source": []
  },
  {
   "cell_type": "code",
   "execution_count": null,
   "metadata": {},
   "outputs": [],
   "source": [
    "# Play with Numbers\n",
    "# line1 : array size, no.of queries\n",
    "# line2 : n array elements\n",
    "# line 3 : next q lines: query - sub array of the original array\n",
    "\n",
    "# i/p -- 5 3 --> line1\n",
    "# i/p -- 1 2 3 4 5 --> line2\n",
    "\n"
   ]
  },
  {
   "cell_type": "code",
   "execution_count": null,
   "metadata": {},
   "outputs": [],
   "source": []
  },
  {
   "cell_type": "code",
   "execution_count": 8,
   "metadata": {},
   "outputs": [
    {
     "name": "stdout",
     "output_type": "stream",
     "text": [
      "S@i@mmu1919\n",
      "4\n",
      "5\n"
     ]
    }
   ],
   "source": [
    "# Number of digits and Number of letters in a String S\n",
    "def Count(s):\n",
    "    c = 0\n",
    "    a = 0\n",
    "    for i in s:\n",
    "        if (i.isdigit() == True):\n",
    "            c = c + 1\n",
    "            #print(c)\n",
    "        elif (i.isalpha() == True):\n",
    "            a = a + 1\n",
    "            #print(a)\n",
    "    print(c)\n",
    "    print(a)\n",
    "    return\n",
    "s = input()\n",
    "Count(s)"
   ]
  },
  {
   "cell_type": "code",
   "execution_count": 6,
   "metadata": {},
   "outputs": [
    {
     "name": "stdout",
     "output_type": "stream",
     "text": [
      "2\n",
      "120\n",
      "NO\n",
      "240\n",
      "NO\n"
     ]
    }
   ],
   "source": [
    "# Sum of its Proper positive divisors\n",
    "def factorsList(n):\n",
    "    sum = 0\n",
    "    for i in range(1, n):\n",
    "        if n % i == 0:\n",
    "            sum += i\n",
    "    if sum == n:\n",
    "        print(\"YES\")\n",
    "    else:\n",
    "        print(\"NO\")\n",
    "    return\n",
    "\n",
    "n = int(input())\n",
    "for i in range(0,n):\n",
    "    d = int(input())\n",
    "    factorsList(d)\n",
    "#factorsList(n)"
   ]
  },
  {
   "cell_type": "code",
   "execution_count": null,
   "metadata": {},
   "outputs": [],
   "source": []
  },
  {
   "cell_type": "code",
   "execution_count": null,
   "metadata": {},
   "outputs": [],
   "source": [
    "# Prime Factors\n",
    "def factors(n):\n",
    "    s = 0\n",
    "    #flag = True\n",
    "    for i in range(1,n):\n",
    "        if n % i == 0:\n",
    "            #print(i)\n",
    "            if isPrime(i):\n",
    "                s = s + 1\n",
    "                #s = s.append(i)\n",
    "                #print(i)       \n",
    "    return c\n",
    "\n",
    "\n",
    "def isPrime(n):\n",
    "    if n == 1:\n",
    "        return False\n",
    "    for i in range(2, n):\n",
    "        if n % i == 0:\n",
    "            return False\n",
    "    return True\n",
    "\n",
    "def noofFactors(n):\n",
    "    c = 0\n",
    "    for i in range(1,n):\n",
    "        if n % i == 0:\n",
    "            if isPrime(i):\n",
    "                c = c + 1\n",
    "    return c\n",
    "p = int(input())\n",
    "q = int(input())\n",
    "for i in range(0,q):\n",
    "    a = int(input())\n",
    "    if noofFactors(a) == p:\n",
    "        print(\"YES\")\n",
    "    else:\n",
    "        print(\"NO\")\n"
   ]
  },
  {
   "cell_type": "code",
   "execution_count": null,
   "metadata": {},
   "outputs": [],
   "source": []
  },
  {
   "cell_type": "code",
   "execution_count": 13,
   "metadata": {},
   "outputs": [],
   "source": [
    "def isPrime(n):\n",
    "    #flag = True\n",
    "    for i in range(2, n//2+1):\n",
    "        if n % i == 0:\n",
    "            #flag = False\n",
    "            return flag\n",
    "    return flag\n",
    "isPrime(n)"
   ]
  },
  {
   "cell_type": "code",
   "execution_count": null,
   "metadata": {},
   "outputs": [],
   "source": []
  },
  {
   "cell_type": "code",
   "execution_count": null,
   "metadata": {},
   "outputs": [],
   "source": []
  },
  {
   "cell_type": "code",
   "execution_count": 2,
   "metadata": {},
   "outputs": [
    {
     "name": "stdout",
     "output_type": "stream",
     "text": [
      "30\n"
     ]
    },
    {
     "data": {
      "text/plain": [
       "16"
      ]
     },
     "execution_count": 2,
     "metadata": {},
     "output_type": "execute_result"
    }
   ],
   "source": [
    "# Natural number that is smaller than N such that N gives the highest remainder\n",
    "n = int(input())\n",
    "def s(n):\n",
    "    a = []\n",
    "    b = []\n",
    "    for i in range(n,1,-1):\n",
    "        s = n % i\n",
    "        a.append(s)\n",
    "        b.append(i)\n",
    "    return(b[max(a)])\n",
    "s(n)"
   ]
  },
  {
   "cell_type": "code",
   "execution_count": null,
   "metadata": {},
   "outputs": [],
   "source": []
  }
 ],
 "metadata": {
  "kernelspec": {
   "display_name": "Python 3",
   "language": "python",
   "name": "python3"
  },
  "language_info": {
   "codemirror_mode": {
    "name": "ipython",
    "version": 3
   },
   "file_extension": ".py",
   "mimetype": "text/x-python",
   "name": "python",
   "nbconvert_exporter": "python",
   "pygments_lexer": "ipython3",
   "version": "3.7.3"
  }
 },
 "nbformat": 4,
 "nbformat_minor": 2
}
