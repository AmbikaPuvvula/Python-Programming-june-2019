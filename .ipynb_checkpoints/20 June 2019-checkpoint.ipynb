{
 "cells": [
  {
   "cell_type": "markdown",
   "metadata": {},
   "source": [
    "### Date: 20 June 2019\n",
    "\n",
    "### Day objectives\n"
   ]
  },
  {
   "cell_type": "code",
   "execution_count": null,
   "metadata": {},
   "outputs": [],
   "source": []
  },
  {
   "cell_type": "markdown",
   "metadata": {},
   "source": [
    "#### Regular Expressions\n",
    "- Pattern Matching\n",
    "- Symbolic Notation of a Pattern\n",
    "    - Pattern : Format which repeats\n",
    "    - Pattern(RE) - The set of all strings match that a pattern\n",
    "- [0-9] -> Any digit \n",
    "- [a-z] -> Any lower case alphabet\n",
    "- [2468] -> All single digit multiples of 2\n",
    "- ^[0-9]{1}$ -> Matches single digit\n",
    "\n",
    "- ^ -> Matches the start of string\n",
    "\n",
    "- $ -> Matches end of the string\n",
    "\n",
    "- (*) -> Matches 0 or more numbers // Any digit can repeat 0 or more times\n",
    "\n",
    "- [0-9]*0$ -> All multiples of 10\n",
    "\n",
    "- ^[1-9][0-9]*0$ -> All multiples of 10 in another way\n",
    "\n",
    "- ^([1-9][0-9]*[05])$|^([5])$ -> All multiples of 5\n",
    "\n",
    "- ^[1-9][0-9]{9}$ -> All 10 digit numbers\n",
    "\n",
    "- [w][o][r][d] or (word) -> Searching for a word\n",
    "\n",
    "- ^[6-9][0-9]{9}$ or ^[0][6-9][0-9]{9}$ or ^[+][9][1][6-9][0-9]{9}$ -> Validating Phone numbers(India)(Start with 9876        followed by 9 digits)\n",
    "\n",
    "- ^[a-z0-9][0-9a-z_.]{4,13}[0-9a-z][@][a-z0-9]{3,18}[.][a-z]{2,4}$ Email Validation(username@domain.extension)\n",
    "    - username -> ^[a-z0-9][0-9a-z_.]{4,13}[0-9a-z]$\n",
    "        - Length of username : [6,15]\n",
    "        - No special characters other than _ .\n",
    "        - Should not begin and end with _ .\n",
    "        - character set : all digits and lowercase alphabet\n",
    "    - domain -> ^[@][a-z0-9]{3,18}[a-z]$\n",
    "        - Length of domain : [3,18]\n",
    "        - No special characters\n",
    "        - Character set : all digits and lowercase alphabet\n",
    "    - extension -> ^[.][a-z]{2,4}$\n",
    "        - Length of extension : [2,4]\n",
    "        - No special charecters\n",
    "        - Character Set : alphabet\n",
    "- ^[a]...[z]$ -> Any string of length 5 that starts with a and ends with z\n",
    "\n",
    "- ^[a][...]*[z]$ -> Any string of any length that starts with a and ends with z\n",
    "    "
   ]
  },
  {
   "cell_type": "code",
   "execution_count": null,
   "metadata": {},
   "outputs": [],
   "source": []
  },
  {
   "cell_type": "code",
   "execution_count": 6,
   "metadata": {},
   "outputs": [
    {
     "data": {
      "text/plain": [
       "True"
      ]
     },
     "execution_count": 6,
     "metadata": {},
     "output_type": "execute_result"
    }
   ],
   "source": [
    "# Function to validate a phone number\n",
    "import re\n",
    "def phoneNumberValidator(number):\n",
    "    pattern = '^[6-9][0-9]{9}$|^[0][6-9][0-9]{9}$'\n",
    "    if re.match(pattern,str(number)):\n",
    "        return True\n",
    "phoneNumberValidator('9491297660')\n",
    "\n",
    "def emailValidator(email):\n",
    "    pattern = '^[a-z0-9][0-9a-z_.]{4,13}[0-9a-z][@][a-z0-9]{3,18}[.][a-z]{2,4}$'\n",
    "    if re.match(pattern,email):\n",
    "        return True\n",
    "    return False\n",
    "emailValidator('ambika_p@apssdc.in')"
   ]
  },
  {
   "cell_type": "code",
   "execution_count": null,
   "metadata": {},
   "outputs": [],
   "source": []
  },
  {
   "cell_type": "code",
   "execution_count": 7,
   "metadata": {},
   "outputs": [
    {
     "name": "stdout",
     "output_type": "stream",
     "text": [
      "Invalid email\n"
     ]
    }
   ],
   "source": [
    "contacts={\"name1\":[9876543210,'name1@domain.ext'],\"name2\":[9765432810,'name2@domain.ext']}\n",
    "def addContact(name,phone,email):\n",
    "    if name in contacts:\n",
    "        print(\"Contact %s already Exits\" % name)\n",
    "    else:\n",
    "        if not phoneNumberValidator(phone):\n",
    "            print(\"Phone number is Invalid\")\n",
    "            return\n",
    "        if not emailValidator(email):\n",
    "            print(\"Invalid email\")\n",
    "            return\n",
    "        newcontact = []\n",
    "        newcontact.append(phone)\n",
    "        newcontact.append(email)\n",
    "        contacts[name] = newcontact\n",
    "        print(name,\"added sucessfully\")\n",
    "    return\n",
    "addContact(\"name4\",9876543110,\"re..@gmail.com\")"
   ]
  },
  {
   "cell_type": "code",
   "execution_count": null,
   "metadata": {},
   "outputs": [],
   "source": [
    "def searchContacts(name):\n",
    "    if name in contacts:\n",
    "        print(name)\n",
    "        print(\"phone number:\",contacts[name][0])\n",
    "        print(\"email:\",contacts[email][0])\n",
    "    else:\n",
    "        print(\"%s does not exist\", %name)\n",
    "    return\n",
    "searchContacts()"
   ]
  },
  {
   "cell_type": "code",
   "execution_count": null,
   "metadata": {},
   "outputs": [],
   "source": []
  },
  {
   "cell_type": "markdown",
   "metadata": {},
   "source": [
    "### File Handling in Python\n",
    "- File - Document containing information residing on the permanent storage Types - Text, PDF, CSV etc\n",
    "\n",
    "- File I/O - Channelling I/O data to files Default I/O channels - Keyboard / Screen\n",
    "\n",
    "- Change I/O channel to files for Reading and writing into files\n",
    "\n",
    "- Read a file - Input from file Write to a file - Output to a file\n",
    "\n",
    "- Read / write file - open(filename, mode)"
   ]
  },
  {
   "cell_type": "code",
   "execution_count": null,
   "metadata": {},
   "outputs": [],
   "source": []
  },
  {
   "cell_type": "code",
   "execution_count": null,
   "metadata": {},
   "outputs": [],
   "source": [
    "# Function to read a file\n",
    "\n",
    "def readFile(filename):\n",
    "    f = open(filename, 'r')\n",
    "    filedata = f.read()\n",
    "    f.close()\n",
    "    return filedata\n",
    "\n",
    "filename = 'DataFiles/data.txt'\n",
    "filedata = readFile(filename)\n",
    "#for line in filedata.split('\\n'):\n",
    "#    print(line)\n",
    "\n",
    "    \n",
    "def printFileDataLines(filename):\n",
    "    with open(filename, 'r') as f:\n",
    "        for line in f:\n",
    "            print(line, end='')\n",
    "    return\n",
    "\n",
    "printFileDataLines(filename)\n",
    "print(readFile(filename))"
   ]
  },
  {
   "cell_type": "code",
   "execution_count": null,
   "metadata": {},
   "outputs": [],
   "source": []
  },
  {
   "cell_type": "code",
   "execution_count": 1,
   "metadata": {},
   "outputs": [],
   "source": [
    "# Function to write data into a file\n",
    "\n",
    "def writeIntoFile(filename, filedata):\n",
    "    with open(filename, 'w') as f:\n",
    "        f.write(filedata)\n",
    "    return\n",
    "\n",
    "filename = 'DataFiles/data.txt'\n",
    "\n",
    "writeIntoFile(filename, \"new data\\n\")"
   ]
  },
  {
   "cell_type": "code",
   "execution_count": null,
   "metadata": {},
   "outputs": [],
   "source": []
  },
  {
   "cell_type": "code",
   "execution_count": 2,
   "metadata": {},
   "outputs": [],
   "source": [
    "# Function to append data to a file\n",
    "\n",
    "def appendDataToFile(filename, filedata):\n",
    "    with open(filename, 'a') as f:\n",
    "        for line in filedata:\n",
    "            f.write('\\n'+line)\n",
    "    return\n",
    "\n",
    "filedata = [\"Line4\", \"Line5\"]\n",
    "appendDataToFile(filename, filedata)"
   ]
  },
  {
   "cell_type": "code",
   "execution_count": null,
   "metadata": {},
   "outputs": [],
   "source": []
  },
  {
   "cell_type": "code",
   "execution_count": null,
   "metadata": {},
   "outputs": [],
   "source": []
  }
 ],
 "metadata": {
  "kernelspec": {
   "display_name": "Python 3",
   "language": "python",
   "name": "python3"
  },
  "language_info": {
   "codemirror_mode": {
    "name": "ipython",
    "version": 3
   },
   "file_extension": ".py",
   "mimetype": "text/x-python",
   "name": "python",
   "nbconvert_exporter": "python",
   "pygments_lexer": "ipython3",
   "version": "3.7.3"
  }
 },
 "nbformat": 4,
 "nbformat_minor": 2
}
