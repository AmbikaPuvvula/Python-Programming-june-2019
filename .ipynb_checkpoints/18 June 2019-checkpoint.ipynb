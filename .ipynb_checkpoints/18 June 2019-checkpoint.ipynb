{
 "cells": [
  {
   "cell_type": "code",
   "execution_count": null,
   "metadata": {},
   "outputs": [
    {
     "name": "stdout",
     "output_type": "stream",
     "text": [
      "500000 500000\n"
     ]
    }
   ],
   "source": [
    "## Play with Numbers\n",
    "n = input().split()\n",
    "n[0],n[1] = int(n[0]),int(n[1])\n",
    "a = input().split()\n",
    "sum = [] # Initialize cumulative Sum array\n",
    "# Cumulative Sum --> \n",
    "for i in range(0,n[0]):\n",
    "    if i == 0:\n",
    "        sum.append(int(a[i]))\n",
    "        #sum[i] = a[i]\n",
    "    else:\n",
    "        sum.append(int(sum[i-1]) + int(a[i]))\n",
    "        #sum[i] = sum[i-1] + a[i] #first element\n",
    "#print(sum[n[0] - 1])\n",
    "del a\n",
    "# Read each query and calculate average\n",
    "for i in range(0,n[1]):\n",
    "    inq = input().split()\n",
    "    i = int(inq[0])\n",
    "    j = int(inq[1])\n",
    "    if i > 1:\n",
    "        print((sum[j - 1] - sum[i-2]) // (j-i+1))\n",
    "    else:\n",
    "        print(sum[j-1] // (j - i + 1))"
   ]
  },
  {
   "cell_type": "code",
   "execution_count": null,
   "metadata": {},
   "outputs": [],
   "source": []
  },
  {
   "cell_type": "code",
   "execution_count": 12,
   "metadata": {},
   "outputs": [
    {
     "name": "stdout",
     "output_type": "stream",
     "text": [
      "2\n",
      "3\n",
      "6\n",
      "YES\n",
      "3\n",
      "NO\n",
      "1\n",
      "NO\n"
     ]
    }
   ],
   "source": [
    "## Special Number\n",
    "# Function to determine if a number is special or not\n",
    "def specialNum(n,p):\n",
    "    if numOfPrimeFactors(n) >= p:\n",
    "        return True\n",
    "    return False\n",
    "# Function to check if number is Prime\n",
    "def isPrime(n):\n",
    "    flag = 1\n",
    "    if n == 2:\n",
    "        return True\n",
    "    for i in range(2, n//2+1):\n",
    "        if n % i == 0:\n",
    "            flag = 0\n",
    "            return False\n",
    "    if flag == 1:\n",
    "        return True\n",
    "    return\n",
    "\n",
    "#isPrime(11)\n",
    "\n",
    "# Function to determine number of prime factors for a given number\n",
    "def numOfPrimeFactors(n):\n",
    "    if isPrime(n):\n",
    "        return 1\n",
    "    count = 0\n",
    "    for i in range(2,n // 2 + 1):\n",
    "        if isPrime(i) and n % i == 0:\n",
    "            count = count + 1\n",
    "    return count\n",
    "\n",
    "#numOfPrimeFactors(30)\n",
    "\n",
    "#specialNum(7,2)\n",
    "def solution2():\n",
    "    p = int(input())\n",
    "    t = int(input())\n",
    "    for i in range(0,t):\n",
    "        n = int(input())\n",
    "        if specialNum(n,p):\n",
    "            print(\"YES\")\n",
    "        else:\n",
    "            print(\"NO\")\n",
    "solution2()"
   ]
  },
  {
   "cell_type": "code",
   "execution_count": null,
   "metadata": {},
   "outputs": [],
   "source": []
  },
  {
   "cell_type": "code",
   "execution_count": 5,
   "metadata": {},
   "outputs": [
    {
     "name": "stdout",
     "output_type": "stream",
     "text": [
      "5\n"
     ]
    }
   ],
   "source": [
    "## Highest Remainder\n",
    "# N\n",
    "#highest = 0\n",
    "#x < N and N % x == highest\n",
    "def highestRemainder(n):\n",
    "    hr = 0\n",
    "    v = n\n",
    "    for i in range(n - 1, n // 2 - 1):\n",
    "        r = n % i\n",
    "        if r > hr:\n",
    "            hr = r\n",
    "            v = i\n",
    "    print(v)\n",
    "    return\n",
    "\n",
    "highestRemainder(5)\n",
    "        "
   ]
  },
  {
   "cell_type": "code",
   "execution_count": null,
   "metadata": {},
   "outputs": [],
   "source": []
  },
  {
   "cell_type": "markdown",
   "metadata": {},
   "source": [
    "## Tuples\n",
    "\n",
    "- tuples are represented in paranthesis\n",
    "- lists are represented in square brackets\n",
    "- Difference between lists and Tuples\n",
    "- Lists are mutable - can be changed / modified\n",
    "- Acess,Modify,Add and Delete data\n",
    "- Tuples are immutable -  can not be changed or updated once initialize\n",
    "- tuples are used to access data only.\n",
    "- All Slicing work"
   ]
  },
  {
   "cell_type": "code",
   "execution_count": 12,
   "metadata": {},
   "outputs": [
    {
     "data": {
      "text/plain": [
       "(8, 6, 0)"
      ]
     },
     "execution_count": 12,
     "metadata": {},
     "output_type": "execute_result"
    }
   ],
   "source": [
    "t1 = (1, 2, 8, 6, 0)\n",
    "\n",
    "t1[4] # Acessing the fifth elememt\n",
    "\n",
    "t1[2:] # Acessing middle to last\n",
    "\n",
    "t1[len(t1)//2:] # Acessing middle element to last\n",
    "\n"
   ]
  },
  {
   "cell_type": "code",
   "execution_count": 13,
   "metadata": {},
   "outputs": [
    {
     "data": {
      "text/plain": [
       "tuple"
      ]
     },
     "execution_count": 13,
     "metadata": {},
     "output_type": "execute_result"
    }
   ],
   "source": [
    "type(t1)"
   ]
  },
  {
   "cell_type": "code",
   "execution_count": null,
   "metadata": {},
   "outputs": [],
   "source": []
  },
  {
   "cell_type": "markdown",
   "metadata": {},
   "source": [
    "### Dictionaries\n",
    "- It works on the concept of set\n",
    "- Unique Data\n",
    "- Keys, Values\n",
    "- Key is a unique identifier for a value\n",
    "- Value is data that can be acessed with a key"
   ]
  },
  {
   "cell_type": "code",
   "execution_count": 23,
   "metadata": {},
   "outputs": [
    {
     "data": {
      "text/plain": [
       "True"
      ]
     },
     "execution_count": 23,
     "metadata": {},
     "output_type": "execute_result"
    }
   ],
   "source": [
    "d1 = {\"k1\":\"value1\",\"k2\":\"value2\",\"k3\":\"value3\"}\n",
    "\n",
    "d1[\"k2\"] # Acessing the value with key \"k2\".\n",
    "\n",
    "d1.keys() # returns the list of all values.\n",
    "\n",
    "d1.values() # returns list of all values.\n",
    "\n",
    "d1.items() # retuens list of tuples of keys and values.\n",
    "\n",
    "d1[\"k4\"] = \"value4\" # Adding new element to a dictionary\n",
    "\n",
    "d1[\"k4\"] = \"value5\" # Update element in to a dictionary\n",
    "\n",
    "d1.pop(\"k4\") # Remove a element in dictionary\n",
    "\n",
    "\"k3\" in d1"
   ]
  },
  {
   "cell_type": "code",
   "execution_count": null,
   "metadata": {},
   "outputs": [],
   "source": []
  },
  {
   "cell_type": "markdown",
   "metadata": {},
   "source": [
    "### Contacts Application\n",
    "- Add contact\n",
    "- Search for contact\n",
    "- List all contacts\n",
    "    - name1 : phone1\n",
    "    - name2 : phone2\n",
    "- Modify contact\n",
    "- Remove contact\n",
    "- import contact"
   ]
  },
  {
   "cell_type": "code",
   "execution_count": 8,
   "metadata": {},
   "outputs": [
    {
     "name": "stdout",
     "output_type": "stream",
     "text": [
      "contact added\n"
     ]
    },
    {
     "data": {
      "text/plain": [
       "{'Sai': '8374999663'}"
      ]
     },
     "execution_count": 8,
     "metadata": {},
     "output_type": "execute_result"
    }
   ],
   "source": [
    "contacts={}\n",
    "def addContact(name,phone):\n",
    "    if name not in contacts:\n",
    "        contacts[name]=phone\n",
    "        print(\"contact added\")\n",
    "    else:\n",
    "        print(\"Contact %s already Exits\" % name)        \n",
    "    return\n",
    "addContact(\"Sai\",\"8374999663\")\n",
    "contacts\n"
   ]
  },
  {
   "cell_type": "code",
   "execution_count": 9,
   "metadata": {},
   "outputs": [
    {
     "name": "stdout",
     "output_type": "stream",
     "text": [
      "name does not exits\n"
     ]
    }
   ],
   "source": [
    "def SearchContacts(name):\n",
    "    if name in contacts:\n",
    "        print(name,\":\",contacts[name])\n",
    "    else:\n",
    "        print(\"%s does not exits\" % name)\n",
    "    return\n",
    "\n",
    "SearchContacts(\"name\")"
   ]
  },
  {
   "cell_type": "code",
   "execution_count": 10,
   "metadata": {},
   "outputs": [
    {
     "name": "stdout",
     "output_type": "stream",
     "text": [
      "{'Sai': '8374999663'}\n"
     ]
    }
   ],
   "source": [
    "def listAllContacts():\n",
    "    if(contacts):\n",
    "        print(contacts)\n",
    "listAllContacts()\n"
   ]
  },
  {
   "cell_type": "code",
   "execution_count": 11,
   "metadata": {},
   "outputs": [
    {
     "name": "stdout",
     "output_type": "stream",
     "text": [
      "does not exits sai \n"
     ]
    }
   ],
   "source": [
    "def Modify(name):\n",
    "    if name in contacts:\n",
    "        phone=int(input(\"enter the number\"))\n",
    "        contacts[name]=phone\n",
    "        print(\"Successfully modify %s number\" %phone)\n",
    "    else:\n",
    "        print(\"does not exits %s \"%name)\n",
    "Modify(\"sai\")\n",
    "        "
   ]
  },
  {
   "cell_type": "code",
   "execution_count": 40,
   "metadata": {},
   "outputs": [
    {
     "name": "stdout",
     "output_type": "stream",
     "text": [
      "2 Contacts are added sucesfully\n"
     ]
    }
   ],
   "source": [
    "def importContacts(newContacts):\n",
    "    contacts.update(newContacts)\n",
    "    print(len(newContacts.keys()), \"Contacts are added sucesfully\")\n",
    "    return\n",
    "\n",
    "newContacts = {\"Lavanya\":564372190,\"Anil\":1589754321}\n",
    "\n",
    "importContacts(newContacts)"
   ]
  },
  {
   "cell_type": "code",
   "execution_count": 12,
   "metadata": {},
   "outputs": [
    {
     "name": "stdout",
     "output_type": "stream",
     "text": [
      "name2 No Contact\n"
     ]
    }
   ],
   "source": [
    "def RemoveContact(name):\n",
    "    if name in contacts:\n",
    "        contacts.pop(name)\n",
    "        print(\"%s contact deleted sucessfully\"%name)\n",
    "    else:\n",
    "        print(\"%s No Contact\"%name)\n",
    "RemoveContact(\"name2\")"
   ]
  },
  {
   "cell_type": "code",
   "execution_count": null,
   "metadata": {},
   "outputs": [],
   "source": []
  },
  {
   "cell_type": "markdown",
   "metadata": {},
   "source": [
    "## Packages and Modules\n",
    "\n",
    "**Package**  -->  Collection of Modules(Python File.py) and subpackage\n",
    "\n",
    "**SubPackages** -->\n",
    "\n",
    "**Module**  -->  A single file containing FUnctions\n",
    "\n",
    "Package --> Subpackages --> Modules --> Functions"
   ]
  },
  {
   "cell_type": "code",
   "execution_count": 6,
   "metadata": {},
   "outputs": [
    {
     "data": {
      "text/plain": [
       "123"
      ]
     },
     "execution_count": 6,
     "metadata": {},
     "output_type": "execute_result"
    }
   ],
   "source": [
    "from math import floor as fl\n",
    "\n",
    "fl(123.456)\n",
    "\n",
    "#math.pi\n"
   ]
  },
  {
   "cell_type": "code",
   "execution_count": 14,
   "metadata": {},
   "outputs": [
    {
     "name": "stdout",
     "output_type": "stream",
     "text": [
      "38 16 83 11 25 44 29 25 13 5 "
     ]
    }
   ],
   "source": [
    "import random\n",
    "def generateNRandomNumbers(n,lb,ub):\n",
    "    for i in range(0,n):\n",
    "        print(random.randint(lb,ub), end = \" \")\n",
    "generateNRandomNumbers(10,0,100)"
   ]
  },
  {
   "cell_type": "code",
   "execution_count": null,
   "metadata": {},
   "outputs": [],
   "source": []
  },
  {
   "cell_type": "code",
   "execution_count": 4,
   "metadata": {},
   "outputs": [
    {
     "data": {
      "text/plain": [
       "3"
      ]
     },
     "execution_count": 4,
     "metadata": {},
     "output_type": "execute_result"
    }
   ],
   "source": [
    "from Packages import numerical\n",
    "numerical.numOfPrimeFactors(1100)"
   ]
  },
  {
   "cell_type": "code",
   "execution_count": 17,
   "metadata": {},
   "outputs": [
    {
     "data": {
      "text/plain": [
       "True"
      ]
     },
     "execution_count": 17,
     "metadata": {},
     "output_type": "execute_result"
    }
   ],
   "source": [
    "from Packages import numerical\n",
    "numerical.isPrime(7)"
   ]
  },
  {
   "cell_type": "code",
   "execution_count": 5,
   "metadata": {},
   "outputs": [
    {
     "data": {
      "text/plain": [
       "{'Ambika': '9491297660'}"
      ]
     },
     "execution_count": 5,
     "metadata": {},
     "output_type": "execute_result"
    }
   ],
   "source": [
    "contacts"
   ]
  },
  {
   "cell_type": "code",
   "execution_count": null,
   "metadata": {},
   "outputs": [],
   "source": []
  }
 ],
 "metadata": {
  "kernelspec": {
   "display_name": "Python 3",
   "language": "python",
   "name": "python3"
  },
  "language_info": {
   "codemirror_mode": {
    "name": "ipython",
    "version": 3
   },
   "file_extension": ".py",
   "mimetype": "text/x-python",
   "name": "python",
   "nbconvert_exporter": "python",
   "pygments_lexer": "ipython3",
   "version": "3.7.3"
  }
 },
 "nbformat": 4,
 "nbformat_minor": 2
}
