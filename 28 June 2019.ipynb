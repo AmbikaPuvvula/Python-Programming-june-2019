{
 "cells": [
  {
   "cell_type": "markdown",
   "metadata": {},
   "source": [
    "### 28 June 2019\n",
    "### Day Objectives\n",
    "- Maps\n",
    "- Lambda\n",
    "- Filter\n",
    "- Use cases - File / Data Encryption"
   ]
  },
  {
   "cell_type": "code",
   "execution_count": null,
   "metadata": {},
   "outputs": [],
   "source": []
  },
  {
   "cell_type": "markdown",
   "metadata": {},
   "source": [
    "### Map \n",
    "\n",
    "Map --> Relation between entity and a function\n",
    "\n",
    "f: x^2 + 3 * x + 9\n",
    "\n",
    "x : [1,10]\n",
    "\n",
    "f(x)\n",
    "\n",
    "f(1) -> 13\n",
    "f(2) -> 19\n",
    "...\n",
    "..\n",
    ".\n",
    "f(x) = x^2\n",
    "\n",
    "y = f(x)\n",
    "x    y\n",
    "1    1\n",
    "2    4\n",
    "3    9\n",
    "4    16\n",
    "5    25\n",
    "6    36\n",
    "7    49\n",
    "8    64\n",
    "\n",
    "\n",
    "map(function,Iterable)\n",
    "\n"
   ]
  },
  {
   "cell_type": "code",
   "execution_count": null,
   "metadata": {},
   "outputs": [],
   "source": []
  },
  {
   "cell_type": "code",
   "execution_count": 4,
   "metadata": {},
   "outputs": [
    {
     "data": {
      "text/plain": [
       "1024"
      ]
     },
     "execution_count": 4,
     "metadata": {},
     "output_type": "execute_result"
    }
   ],
   "source": [
    "def powerN(a,n):\n",
    "    #return a**n\n",
    "    r = 1\n",
    "    for i in range(0,n):\n",
    "        r *= a\n",
    "    return r\n",
    "powerN(2,10)\n",
    "\n",
    "def recursivePowerN(a,n):\n",
    "    if n == 0:\n",
    "        return 1\n",
    "    else:\n",
    "        return a * recursivePowerN(a,n-1)\n",
    "recursivePowerN(2,10)"
   ]
  },
  {
   "cell_type": "code",
   "execution_count": 14,
   "metadata": {},
   "outputs": [
    {
     "data": {
      "text/plain": [
       "(1, 8, 27, 64, 125)"
      ]
     },
     "execution_count": 14,
     "metadata": {},
     "output_type": "execute_result"
    }
   ],
   "source": [
    "def cube(n):\n",
    "    return n**3\n",
    "li = [1,2,3,4,5]\n",
    "tuple(map(cube,li))\n"
   ]
  },
  {
   "cell_type": "code",
   "execution_count": null,
   "metadata": {},
   "outputs": [],
   "source": []
  },
  {
   "cell_type": "markdown",
   "metadata": {},
   "source": [
    "### Filter\n",
    "used to check boolean values\n",
    "\n",
    "f: X -> {T,F}\n",
    "\n",
    "x    y\n",
    "1    \n",
    "2    2\n",
    "3    3\n",
    "4\n",
    "5    5\n",
    "\n",
    "\n",
    "\n"
   ]
  },
  {
   "cell_type": "code",
   "execution_count": 17,
   "metadata": {},
   "outputs": [
    {
     "data": {
      "text/plain": [
       "['a', 'b']"
      ]
     },
     "execution_count": 17,
     "metadata": {},
     "output_type": "execute_result"
    }
   ],
   "source": [
    "li = [1,2,'a','b',3]\n",
    "def isDigit(i):\n",
    "    i = str(i)\n",
    "    if i.isdigit():\n",
    "        return False\n",
    "    return i\n",
    "list(filter(isDigit,li))\n"
   ]
  },
  {
   "cell_type": "code",
   "execution_count": null,
   "metadata": {},
   "outputs": [],
   "source": []
  },
  {
   "cell_type": "code",
   "execution_count": 9,
   "metadata": {},
   "outputs": [
    {
     "data": {
      "text/plain": [
       "[503, 509, 521, 523, 541, 547, 557, 563, 569, 571, 577, 587, 593, 599]"
      ]
     },
     "execution_count": 9,
     "metadata": {},
     "output_type": "execute_result"
    }
   ],
   "source": [
    "# Identify all primes in a range\n",
    "def CheckPrime(n):\n",
    "    if n < 2:\n",
    "        return False\n",
    "    for i in range(2,n//2+1):\n",
    "        if n % i == 0:\n",
    "            return False\n",
    "    return True\n",
    "lb,ub = 500,600\n",
    "primelist = list(filter(CheckPrime,range(lb,ub)))\n",
    "primelist\n",
    "\n",
    "primelist2 = [i for i in range(lb,ub+1) if CheckPrime(i) ]\n",
    "primelist2\n",
    "#primelist"
   ]
  },
  {
   "cell_type": "code",
   "execution_count": null,
   "metadata": {},
   "outputs": [],
   "source": []
  },
  {
   "cell_type": "code",
   "execution_count": 4,
   "metadata": {},
   "outputs": [
    {
     "name": "stdout",
     "output_type": "stream",
     "text": [
      "Ambika Sai Ammu\n",
      "['Ambika', 'Ammu']\n"
     ]
    }
   ],
   "source": [
    "name = input().split()\n",
    "n = list(map(str,name))\n",
    "s = []\n",
    "#print(n)\n",
    "for i in n:\n",
    "    if i.startswith('A'):\n",
    "        s.append(i)\n",
    "print(s)\n",
    "    \n",
    "    "
   ]
  },
  {
   "cell_type": "code",
   "execution_count": null,
   "metadata": {},
   "outputs": [],
   "source": []
  },
  {
   "cell_type": "markdown",
   "metadata": {},
   "source": [
    "### Lambda\n",
    "\n",
    "Anonymous Functions\n",
    "\n",
    "Can be embedded into List comprehension,Maps,Filters\n"
   ]
  },
  {
   "cell_type": "code",
   "execution_count": null,
   "metadata": {},
   "outputs": [],
   "source": []
  },
  {
   "cell_type": "code",
   "execution_count": 11,
   "metadata": {},
   "outputs": [
    {
     "data": {
      "text/plain": [
       "[2, 4]"
      ]
     },
     "execution_count": 11,
     "metadata": {},
     "output_type": "execute_result"
    }
   ],
   "source": [
    "a = lambda x: x**3\n",
    "list(map(lambda x:x**3,[1,2,3,4,5]))\n",
    "\n",
    "list(filter(lambda x:(x % 2 == 0),[1,2,3,4,5]))"
   ]
  },
  {
   "cell_type": "code",
   "execution_count": 8,
   "metadata": {},
   "outputs": [
    {
     "data": {
      "text/plain": [
       "[9, 12, 8, 14, 14, 9]"
      ]
     },
     "execution_count": 8,
     "metadata": {},
     "output_type": "execute_result"
    }
   ],
   "source": [
    "from random import randint\n",
    "Internal_1 = [randint(0,25) for i in range(10)]\n",
    "Internal_2 = [randint(0,25) for i in range(10)]\n",
    "Internal_3 = [randint(0,25) for i in range(10)]\n",
    "avg_internal = list(map(lambda x,y,z: (x + y+z)//3,Internal_1,Internal_2,Internal_3))\n",
    "failed_students = list(filter(lambda x:x<15,avg_internal))\n",
    "failed_students\n",
    "#avg_internal"
   ]
  },
  {
   "cell_type": "code",
   "execution_count": null,
   "metadata": {},
   "outputs": [],
   "source": []
  },
  {
   "cell_type": "markdown",
   "metadata": {},
   "source": [
    "### Applying Functional Programming to the Marks Analysis Application"
   ]
  },
  {
   "cell_type": "code",
   "execution_count": 14,
   "metadata": {},
   "outputs": [],
   "source": [
    "# Generate Marks data\n",
    "from random import randint\n",
    "def generateMarks(n,lb,ub):\n",
    "    filename = 'DataFiles/marks.txt'\n",
    "    with open(filename,'w') as f:\n",
    "        for i in range(n):\n",
    "            marks = randint(lb,ub)\n",
    "            f.write(str(marks) + '\\n')\n",
    "    return\n",
    "generateMarks(1000,0,100)"
   ]
  },
  {
   "cell_type": "code",
   "execution_count": 19,
   "metadata": {},
   "outputs": [
    {
     "name": "stdout",
     "output_type": "stream",
     "text": [
      "[12, 11, 12, 24, 11, 4, 23, 9, 0, 30, 30, 31, 39, 15, 21, 12, 36, 21, 5, 21, 5, 3, 19, 2, 11, 28, 11, 2, 37, 19, 8, 34, 36, 24, 8, 20, 24, 19, 3, 31, 38, 6, 20, 3, 39, 4, 14, 25, 7, 28, 0, 7, 27, 29, 5, 8, 31, 32, 18, 37, 25, 24, 3, 39, 4, 14, 11, 22, 38, 4, 19, 29, 18, 23, 6, 22, 29, 5, 4, 15, 21, 36, 6, 32, 4, 5, 32, 26, 19, 20, 10, 9, 27, 32, 15, 22, 7, 20, 24, 19, 38, 24, 26, 23, 10, 1, 13, 19, 7, 5, 15, 31, 32, 31, 33, 3, 30, 33, 33, 21, 14, 30, 25, 3, 22, 5, 39, 19, 25, 0, 15, 28, 29, 8, 3, 25, 20, 38] "
     ]
    }
   ],
   "source": [
    "# Marks Analysis\n",
    "# Class Average,% of Passed,Failed and Distinction\n",
    "#Frequency of Highest & Lowest \n",
    "\n",
    "# Class Average\n",
    "#import re\n",
    "def readMarksList(filepath):\n",
    "    with open(filepath,'r') as f:\n",
    "        filedata = f.read().split()\n",
    "    return list(map(int,filedata))\n",
    "def classAverage(filepath):\n",
    "    markslist = readMarksList(filepath)\n",
    "    return sum(markslist)//len(markslist)\n",
    "def percentageFailed(filepath):\n",
    "    markslist = readMarksList(filepath)\n",
    "    failStudents = list(filter(lambda mark:mark < 40,markslist))\n",
    "    print(failStudents,end = \" \")\n",
    "filepath = 'DataFiles/marks.txt'\n",
    "percentageFailed(filepath)"
   ]
  },
  {
   "cell_type": "code",
   "execution_count": null,
   "metadata": {},
   "outputs": [],
   "source": [
    "def percentagePassed(filepath):\n",
    "    return 100 - percentageFailed"
   ]
  },
  {
   "cell_type": "code",
   "execution_count": 24,
   "metadata": {},
   "outputs": [
    {
     "data": {
      "text/plain": [
       "3"
      ]
     },
     "execution_count": 24,
     "metadata": {},
     "output_type": "execute_result"
    }
   ],
   "source": [
    "def highestMarkFrequency(filepath):\n",
    "    markslist = readMarksList(filepath)\n",
    "    return markslist.count(max(markslist))\n",
    "filepath = 'DataFiles/marks.txt'\n",
    "highestMarkFrequency(filepath)"
   ]
  },
  {
   "cell_type": "code",
   "execution_count": 25,
   "metadata": {},
   "outputs": [
    {
     "data": {
      "text/plain": [
       "3"
      ]
     },
     "execution_count": 25,
     "metadata": {},
     "output_type": "execute_result"
    }
   ],
   "source": [
    "def lowestMarkFrequency(filepath):\n",
    "    markslist = readMarksList(filepath)\n",
    "    return markslist.count(min(markslist))\n",
    "filepath = 'DataFiles/marks.txt'\n",
    "lowestMarkFrequency(filepath)"
   ]
  },
  {
   "cell_type": "code",
   "execution_count": 27,
   "metadata": {},
   "outputs": [
    {
     "name": "stdout",
     "output_type": "stream",
     "text": [
      "[74, 73, 88, 94, 90, 88, 74, 81, 95, 82, 91, 96, 99, 75, 81, 77, 74, 85, 75, 92, 86, 86, 96, 89, 76, 84, 83, 95, 78, 73, 77, 81, 95, 97, 85, 90, 90, 77, 84, 93, 91, 97, 100, 99, 86, 98, 71, 92, 93, 92, 73, 86, 75, 75, 82, 89, 98, 79, 96, 99, 100, 88, 81, 78, 82, 95, 80, 93, 76, 80, 79, 77, 81, 78, 85, 98, 74, 78, 79, 100, 78, 77, 91, 84, 92, 90, 78, 80, 86] "
     ]
    }
   ],
   "source": [
    "def percentageDistinction(filepath):\n",
    "    markslist = readMarksList(filepath)\n",
    "    distStudents = list(filter(lambda mark:mark > 70,markslist))\n",
    "    print(distStudents,end = \" \")\n",
    "filepath = 'DataFiles/marks.txt'\n",
    "percentageDistinction(filepath)"
   ]
  },
  {
   "cell_type": "code",
   "execution_count": null,
   "metadata": {},
   "outputs": [],
   "source": []
  },
  {
   "cell_type": "markdown",
   "metadata": {},
   "source": [
    "### Data Encryption\n",
    "\n",
    "key - Mapping of characters with some replaced character\n",
    "\n",
    "0 -> 4\n",
    "\n",
    "1 -> 5\n",
    "\n",
    "2 -> 6\n",
    "\n",
    "3 -> 7\n",
    "\n",
    "4 -> 8\n",
    "\n",
    "5 -> 9\n",
    "\n",
    "6 -> 0\n",
    "\n",
    "7 -> 1\n",
    "\n",
    "8 -> 2\n",
    "\n",
    "9 -> 3\n"
   ]
  },
  {
   "cell_type": "code",
   "execution_count": 12,
   "metadata": {},
   "outputs": [],
   "source": [
    "# Function to generate key for encryption\n",
    "keypath = 'DataFiles/key.txt'\n",
    "def generateKey(keypath):\n",
    "    with open(keypath,'w') as f:\n",
    "        for i in range(10):\n",
    "            if i < 6:\n",
    "                f.write(str(i) + ' ' + str(i + 4) + '\\n')\n",
    "            else:\n",
    "                f.write(str(i) + ' ' + str(i - 6) + '\\n')\n",
    "    return \n",
    "generateKey(keypath)"
   ]
  },
  {
   "cell_type": "code",
   "execution_count": null,
   "metadata": {},
   "outputs": [],
   "source": []
  },
  {
   "cell_type": "code",
   "execution_count": 15,
   "metadata": {},
   "outputs": [],
   "source": [
    "# Function to encrypt a data file\n",
    "def dictionaryKeyFile(keyfile):\n",
    "    key = {}\n",
    "    with open(keyfile,'r') as f:\n",
    "        for line in f:\n",
    "            line = line.split()\n",
    "            key[line[0]] = line[1]\n",
    "    return key\n",
    "keyfile = 'DataFiles/key.txt'\n",
    "#dictionaryKeyFile(keyfile)\n",
    "def encryptMarksData(datafile,keyfile):\n",
    "    # Construct a dictionary for key data\n",
    "    key = dictionaryKeyFile(keyfile)\n",
    "    with open(datafile,'r') as f:\n",
    "        filedata = f.read().split('\\n')\n",
    "    with open('DataFiles/encryptedMarks.txt','w') as f:\n",
    "        for mark in filedata:\n",
    "            line = ''\n",
    "            for n in mark:\n",
    "                line += key[n]\n",
    "            f.write(line + '\\n')\n",
    "    return\n",
    "datafile = 'DataFiles/marks.txt'\n",
    "#encryptMarksData(datafile,keyfile)\n"
   ]
  },
  {
   "cell_type": "code",
   "execution_count": 10,
   "metadata": {},
   "outputs": [
    {
     "name": "stdout",
     "output_type": "stream",
     "text": [
      "0.025920505000613048\n"
     ]
    }
   ],
   "source": [
    "# Function to decrypt method\n",
    "def dictionaryKeyFile(keyfile):\n",
    "    key = {}\n",
    "    with open(keyfile,'r') as f:\n",
    "        for line in f:\n",
    "            line = line.split()\n",
    "            key[line[0]] = line[1]\n",
    "    return key\n",
    "keyfile = 'DataFiles/key.txt'\n",
    "def decryptMarksData(encryptedfile,keyfile):\n",
    "    key = dictionaryKeyFile(keyfile)\n",
    "    key = key.items()\n",
    "    newkey = {}\n",
    "    for key,value in key:\n",
    "        newkey[value] = key\n",
    "    \n",
    "    with open(encryptedfile,'r') as f:\n",
    "        encrypteddata = f.read().split('\\n')\n",
    "    with open('DataFiles/decryptedMarks.txt','w') as f:\n",
    "        line =''\n",
    "        for encryptedmark in encrypteddata:\n",
    "            for n in encryptedmark:\n",
    "                line += newkey[n]\n",
    "            f.write(line + '\\n')\n",
    "    return\n",
    "encryptedfile = 'DataFiles/encryptedmarks.txt'\n",
    "import timeit\n",
    "st = timeit.default_timer()\n",
    "decryptMarksData(encryptedfile,keyfile)\n",
    "print(timeit.default_timer()-st)"
   ]
  },
  {
   "cell_type": "code",
   "execution_count": 9,
   "metadata": {},
   "outputs": [
    {
     "data": {
      "text/plain": [
       "{'0', '1', '2', '3', '4', '5', '6', '7', '8', '9'}"
      ]
     },
     "execution_count": 9,
     "metadata": {},
     "output_type": "execute_result"
    }
   ],
   "source": [
    "# Comprehensions\n",
    "def dictionaryKeyFile(keyfile):\n",
    "    key = {}\n",
    "    with open(keyfile,'r') as f:\n",
    "        for line in f:\n",
    "            line = line.split()\n",
    "            key[line[0]] = line[1]\n",
    "    return key\n",
    "keyfile = 'DataFiles/key.txt'\n",
    "keyfile = 'DataFiles/key.txt'\n",
    "key = dictionaryKeyFile(keyfile)\n",
    "evenkeys = {item for item in key}\n",
    "#evenkeys = {item for item in key.items() if int(item[0])%2 == 0}\n",
    "evenkeys"
   ]
  },
  {
   "cell_type": "code",
   "execution_count": null,
   "metadata": {},
   "outputs": [],
   "source": []
  }
 ],
 "metadata": {
  "kernelspec": {
   "display_name": "Python 3",
   "language": "python",
   "name": "python3"
  },
  "language_info": {
   "codemirror_mode": {
    "name": "ipython",
    "version": 3
   },
   "file_extension": ".py",
   "mimetype": "text/x-python",
   "name": "python",
   "nbconvert_exporter": "python",
   "pygments_lexer": "ipython3",
   "version": "3.7.3"
  }
 },
 "nbformat": 4,
 "nbformat_minor": 2
}
