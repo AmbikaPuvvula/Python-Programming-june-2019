{
 "cells": [
  {
   "cell_type": "code",
   "execution_count": null,
   "metadata": {},
   "outputs": [],
   "source": []
  },
  {
   "cell_type": "code",
   "execution_count": 6,
   "metadata": {},
   "outputs": [
    {
     "name": "stdout",
     "output_type": "stream",
     "text": [
      "0 1 2 1 1 1 1 1 0 0 "
     ]
    }
   ],
   "source": [
    "# input String s = 123abc45267def\n",
    "# output:0 1 2 1 1 1 1 1 0 0\n",
    "def uniqueData(allnumbers):\n",
    "    unique = []\n",
    "    for n in allnumbers:\n",
    "        if n not in unique:\n",
    "            unique.append(n)\n",
    "    return unique\n",
    "\n",
    "def digitFreq(s):\n",
    "    allnumbers = []\n",
    "    for i in s:\n",
    "        if i.isdigit():\n",
    "            allnumbers.append(i)\n",
    "    unique = uniqueData(allnumbers)\n",
    "    for i in range(0,10):\n",
    "        if str(i) not in unique:\n",
    "            print(0, end = \" \")\n",
    "        else:\n",
    "            count = allnumbers.count(str(i))\n",
    "            print(count,end = \" \")\n",
    "digitFreq('123abc45267def')"
   ]
  },
  {
   "cell_type": "code",
   "execution_count": 5,
   "metadata": {},
   "outputs": [],
   "source": [
    "def digitFreq1(s):\n",
    "    for i in range(0,10):\n",
    "        count = s.count(str(i))\n",
    "digitFreq1(\"123abc45267def\")"
   ]
  },
  {
   "cell_type": "code",
   "execution_count": null,
   "metadata": {},
   "outputs": [],
   "source": [
    "# Contact Application\n",
    "    # Add,Search,List,Modify and Delete Contacts\n",
    "# Find and Replace Application\n",
    "    # Count total number of occurences\n",
    "    # If word is existing\n",
    "    # Replace all occurences of a word with another word\n",
    "# Marks Analysis Application --> Each link contains marks or \n",
    "    # Generate a report with in\n",
    "    # Input : Marks text file - each\n",
    "    # Generate a report with the following\n",
    "        #Class Average\n",
    "        # % of students passed\n",
    "        # % of students failed\n",
    "        # % of student with distinction\n",
    "        # Highest Mark Frequency\n",
    "        # Lowest Mark Frequency\n",
    "        "
   ]
  },
  {
   "cell_type": "code",
   "execution_count": 8,
   "metadata": {},
   "outputs": [],
   "source": [
    "#Function to generate marks data for n\n",
    "from random import randint\n",
    "def generateMarks(n,lb,ub):\n",
    "    with open(\"DataFiles/marks.txt\",\"w\") as f:\n",
    "        for i in range(0,n):\n",
    "            r = randint(lb,ub)\n",
    "            f.write(str(r) + '\\n')\n",
    "    return\n",
    "generateMarks(1000,0,100)"
   ]
  },
  {
   "cell_type": "code",
   "execution_count": 9,
   "metadata": {},
   "outputs": [
    {
     "data": {
      "text/plain": [
       "48.791"
      ]
     },
     "execution_count": 9,
     "metadata": {},
     "output_type": "execute_result"
    }
   ],
   "source": [
    "# Class Average\n",
    "def classAvg(n):\n",
    "    with open(\"DataFiles/marks.txt\") as f:\n",
    "        fh = f.read()\n",
    "        sum = 0\n",
    "        for i in fh.split():\n",
    "            sum = sum + int(i)\n",
    "        return sum/n\n",
    "classAvg(1000)"
   ]
  },
  {
   "cell_type": "code",
   "execution_count": 12,
   "metadata": {},
   "outputs": [
    {
     "name": "stdout",
     "output_type": "stream",
     "text": [
      "students pass percentage 58.199999999999996\n"
     ]
    }
   ],
   "source": [
    "def passPercent():\n",
    "    with open(\"DataFiles/marks.txt\") as f:\n",
    "        fh = f.read()\n",
    "        c = 0\n",
    "        count = 0\n",
    "        n = 1000\n",
    "        for i in fh.split():\n",
    "            if int(i) >= 40:\n",
    "                c = c + 1\n",
    "        print(\"students pass percentage\",(c/n)*100)\n",
    "    return\n",
    "passPercent()"
   ]
  },
  {
   "cell_type": "code",
   "execution_count": 2,
   "metadata": {},
   "outputs": [
    {
     "name": "stdout",
     "output_type": "stream",
     "text": [
      "students fail percentage 41.8\n"
     ]
    }
   ],
   "source": [
    "def failPercent():\n",
    "    with open(\"DataFiles/marks.txt\") as f:\n",
    "        fh = f.read()\n",
    "        c = 0\n",
    "        count = 0\n",
    "        n = 1000\n",
    "        for i in fh.split():\n",
    "            if int(i) < 40:\n",
    "                c = c + 1\n",
    "        print(\"students fail percentage\",(c/n)*100)\n",
    "    return\n",
    "failPercent()"
   ]
  },
  {
   "cell_type": "code",
   "execution_count": 3,
   "metadata": {},
   "outputs": [
    {
     "name": "stdout",
     "output_type": "stream",
     "text": [
      "students pass with distinction 23.400000000000002\n"
     ]
    }
   ],
   "source": [
    "def distPercent():\n",
    "    with open(\"DataFiles/marks.txt\") as f:\n",
    "        fh = f.read()\n",
    "        c = 0\n",
    "        count = 0\n",
    "        n = 1000\n",
    "        for i in fh.split():\n",
    "            if int(i) >= 75:\n",
    "                c = c + 1\n",
    "        print(\"students pass with distinction\",(c/n)*100)\n",
    "    return\n",
    "distPercent()"
   ]
  },
  {
   "cell_type": "code",
   "execution_count": 6,
   "metadata": {},
   "outputs": [
    {
     "name": "stdout",
     "output_type": "stream",
     "text": [
      "Highest Marks Frequency 9\n"
     ]
    }
   ],
   "source": [
    "# Highest Marks Frequency\n",
    "def highestMarks():\n",
    "    with open(\"DataFiles/marks.txt\") as f:\n",
    "        fh = f.read()\n",
    "        #sum = 0\n",
    "        for i in fh.split():\n",
    "            highest = max(i)\n",
    "        print(\"Highest Marks Frequency\",highest)\n",
    "    return\n",
    "highestMarks()"
   ]
  },
  {
   "cell_type": "code",
   "execution_count": 7,
   "metadata": {},
   "outputs": [
    {
     "name": "stdout",
     "output_type": "stream",
     "text": [
      "lowest Marks Frequency 4\n"
     ]
    }
   ],
   "source": [
    "# Lowest Marks Frequency\n",
    "def lowestMarks():\n",
    "    with open(\"DataFiles/marks.txt\") as f:\n",
    "        fh = f.read()\n",
    "        #sum = 0\n",
    "        for i in fh.split():\n",
    "            lowest = min(i)\n",
    "        print(\"lowest Marks Frequency\",lowest)\n",
    "    return\n",
    "lowestMarks()"
   ]
  },
  {
   "cell_type": "code",
   "execution_count": null,
   "metadata": {},
   "outputs": [],
   "source": []
  },
  {
   "cell_type": "code",
   "execution_count": 7,
   "metadata": {},
   "outputs": [
    {
     "data": {
      "text/plain": [
       "0"
      ]
     },
     "execution_count": 7,
     "metadata": {},
     "output_type": "execute_result"
    }
   ],
   "source": [
    "# Function to check two strigs are anagrams\n",
    "# abc cba -> True\n",
    "# {a:1,b:1,c:1} {c:1,b:1,a:1}\n",
    "# aabbcc ccbbaaa -> False\n",
    "# {a:2,b:2,c:2} {c:2,b:2,a:3}\n",
    "# abcccddd\n",
    "# aabcbee\n",
    "# uncommon = [e,e,d,d,d]\n",
    "def checkAnagrams(s1,s2):\n",
    "    if len(s1) != len(s2):\n",
    "        return False\n",
    "    if sorted(s1) == sorted(s2):\n",
    "        return True\n",
    "    return False\n",
    "checkAnagrams('abbcc','cbba')\n",
    "\n",
    "def convertToAnagram(s1,s2):\n",
    "    # To collect all uncommon characters - characters occuring in only one string\n",
    "    uncommon = []\n",
    "    for i in s1:\n",
    "        if i not in s2:\n",
    "            uncommon.append(i)\n",
    "    for i in s2:\n",
    "        if i not in s1:\n",
    "            uncommon.append(i)\n",
    "    count = len(uncommon)\n",
    "    # freqs1 -> Frequency of common characters in s1\n",
    "    freqs1 = {}\n",
    "    # freqs2 -> Frequency of common characters in s2\n",
    "    freqs2 = {}\n",
    "    # unique characters in s1 and s2\n",
    "    uniqs1 = [] \n",
    "    uniqs2 = []\n",
    "    # frequency of common unique characters in s1 \n",
    "    for i in s1:\n",
    "        if i not in uncommon and i not in uniqs1:\n",
    "            freqs1[i] = s1.count(i)\n",
    "            uniqs1.append(i)\n",
    "    # frequency of common unique characters in s2\n",
    "    for i in s2:\n",
    "        if i not in uncommon and i not in uniqs2:\n",
    "            freqs2[i] = s2.count(i)\n",
    "            uniqs2.append(i)\n",
    "    # Difference in frequency for common characters and add that difference to final count\n",
    "    for key in freqs1.keys():\n",
    "        count = count + abs(freqs1[key] - freqs2[key])\n",
    "    return count\n",
    "            \n",
    "convertToAnagram('abc','bca')"
   ]
  },
  {
   "cell_type": "code",
   "execution_count": null,
   "metadata": {},
   "outputs": [],
   "source": []
  },
  {
   "cell_type": "code",
   "execution_count": 16,
   "metadata": {},
   "outputs": [
    {
     "data": {
      "text/plain": [
       "'b'"
      ]
     },
     "execution_count": 16,
     "metadata": {},
     "output_type": "execute_result"
    }
   ],
   "source": [
    "# {a:4,g:9,i:6,p:213,c:6}\n",
    "# [4,6,6,9,213]\n",
    "# [a,c,g,i,p]\n",
    "# [213,9,6,6,4]\n",
    "# k = 3\n",
    "# li = []\n",
    "# for item in d.items():\n",
    "    #if item[1] == 6:\n",
    "    #li.append(item[0])\n",
    "# Kth largest frequency\n",
    "def KLargestFrequency(s,k):\n",
    "    # Construct the frequency dictionary for all unique characters\n",
    "    #unique = []\n",
    "    freq = {}\n",
    "    for i in s:\n",
    "        if i not in freq.keys():\n",
    "            freq[i] = s.count(i)\n",
    "            #unique.append(i)\n",
    "    # Extract unique frequencies in descending order\n",
    "    values = sorted(freq.values(),reverse = True)\n",
    "    uniquevalues = list(set(values))\n",
    "    uniquevalues = sorted(uniquevalues,reverse = True)\n",
    "    # Identify Kth Largest frequency\n",
    "    if k <= len(uniquevalues):\n",
    "        kvalue = uniquevalues[k-1]\n",
    "    else:\n",
    "        return -1\n",
    "    # Get all elements with Kth largest frequency\n",
    "    li = []\n",
    "    for item in freq.items():\n",
    "        if item[1] == kvalue:\n",
    "            li.append(item[0])\n",
    "    # Minimum of Kth Largest Frequency\n",
    "    return min(li)\n",
    "KLargestFrequency('aabcdcc',3)"
   ]
  },
  {
   "cell_type": "code",
   "execution_count": null,
   "metadata": {},
   "outputs": [],
   "source": []
  },
  {
   "cell_type": "code",
   "execution_count": 3,
   "metadata": {},
   "outputs": [
    {
     "name": "stdout",
     "output_type": "stream",
     "text": [
      "100 200 100 400\n"
     ]
    },
    {
     "data": {
      "text/plain": [
       "['100', '200', '400']"
      ]
     },
     "execution_count": 3,
     "metadata": {},
     "output_type": "execute_result"
    }
   ],
   "source": [
    "def uniqueNum(li):\n",
    "    li1  =[]\n",
    "    for i in li:\n",
    "        if i not in li1:\n",
    "            li1.append(i)\n",
    "    return li1\n",
    "li = input().split()\n",
    "uniqueNum(li)"
   ]
  },
  {
   "cell_type": "code",
   "execution_count": 5,
   "metadata": {},
   "outputs": [
    {
     "data": {
      "text/plain": [
       "81"
      ]
     },
     "execution_count": 5,
     "metadata": {},
     "output_type": "execute_result"
    }
   ],
   "source": [
    "ord('Q')"
   ]
  },
  {
   "cell_type": "code",
   "execution_count": null,
   "metadata": {},
   "outputs": [],
   "source": []
  }
 ],
 "metadata": {
  "kernelspec": {
   "display_name": "Python 3",
   "language": "python",
   "name": "python3"
  },
  "language_info": {
   "codemirror_mode": {
    "name": "ipython",
    "version": 3
   },
   "file_extension": ".py",
   "mimetype": "text/x-python",
   "name": "python",
   "nbconvert_exporter": "python",
   "pygments_lexer": "ipython3",
   "version": "3.7.3"
  }
 },
 "nbformat": 4,
 "nbformat_minor": 2
}
